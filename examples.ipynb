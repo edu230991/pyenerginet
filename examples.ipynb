{
  "nbformat": 4,
  "nbformat_minor": 0,
  "metadata": {
    "colab": {
      "provenance": [],
      "authorship_tag": "ABX9TyPNGyoNHmFnbsrnWaog1flU",
      "include_colab_link": true
    },
    "kernelspec": {
      "name": "python3",
      "display_name": "Python 3"
    },
    "language_info": {
      "name": "python"
    }
  },
  "cells": [
    {
      "cell_type": "markdown",
      "metadata": {
        "id": "view-in-github",
        "colab_type": "text"
      },
      "source": [
        "<a href=\"https://colab.research.google.com/github/edu230991/pyenerginet/blob/main/examples.ipynb\" target=\"_parent\"><img src=\"https://colab.research.google.com/assets/colab-badge.svg\" alt=\"Open In Colab\"/></a>"
      ]
    },
    {
      "cell_type": "markdown",
      "source": [
        "# Introduction to pyenerginet\n",
        "First let's start by installing the package."
      ],
      "metadata": {
        "id": "YMI7HUTK8NYd"
      }
    },
    {
      "cell_type": "code",
      "execution_count": 1,
      "metadata": {
        "id": "eHTQbs8n7RAo",
        "colab": {
          "base_uri": "https://localhost:8080/"
        },
        "outputId": "b8c1f873-da5d-43c4-9ee3-8019731626c5"
      },
      "outputs": [
        {
          "output_type": "stream",
          "name": "stdout",
          "text": [
            "Collecting pyenerginet\n",
            "  Downloading pyenerginet-0.2-py3-none-any.whl (17 kB)\n",
            "Collecting numpy<1.27,>=1.26.4 (from pyenerginet)\n",
            "  Downloading numpy-1.26.4-cp310-cp310-manylinux_2_17_x86_64.manylinux2014_x86_64.whl (18.2 MB)\n",
            "\u001b[2K     \u001b[90m━━━━━━━━━━━━━━━━━━━━━━━━━━━━━━━━━━━━━━━━\u001b[0m \u001b[32m18.2/18.2 MB\u001b[0m \u001b[31m41.9 MB/s\u001b[0m eta \u001b[36m0:00:00\u001b[0m\n",
            "\u001b[?25hCollecting pandas<2.3,>=2.2.1 (from pyenerginet)\n",
            "  Downloading pandas-2.2.1-cp310-cp310-manylinux_2_17_x86_64.manylinux2014_x86_64.whl (13.0 MB)\n",
            "\u001b[2K     \u001b[90m━━━━━━━━━━━━━━━━━━━━━━━━━━━━━━━━━━━━━━━━\u001b[0m \u001b[32m13.0/13.0 MB\u001b[0m \u001b[31m36.4 MB/s\u001b[0m eta \u001b[36m0:00:00\u001b[0m\n",
            "\u001b[?25hRequirement already satisfied: requests<2.32,>=2.31.0 in /usr/local/lib/python3.10/dist-packages (from pyenerginet) (2.31.0)\n",
            "Requirement already satisfied: python-dateutil>=2.8.2 in /usr/local/lib/python3.10/dist-packages (from pandas<2.3,>=2.2.1->pyenerginet) (2.8.2)\n",
            "Requirement already satisfied: pytz>=2020.1 in /usr/local/lib/python3.10/dist-packages (from pandas<2.3,>=2.2.1->pyenerginet) (2023.4)\n",
            "Collecting tzdata>=2022.7 (from pandas<2.3,>=2.2.1->pyenerginet)\n",
            "  Downloading tzdata-2024.1-py2.py3-none-any.whl (345 kB)\n",
            "\u001b[2K     \u001b[90m━━━━━━━━━━━━━━━━━━━━━━━━━━━━━━━━━━━━━━━━\u001b[0m \u001b[32m345.4/345.4 kB\u001b[0m \u001b[31m16.8 MB/s\u001b[0m eta \u001b[36m0:00:00\u001b[0m\n",
            "\u001b[?25hRequirement already satisfied: charset-normalizer<4,>=2 in /usr/local/lib/python3.10/dist-packages (from requests<2.32,>=2.31.0->pyenerginet) (3.3.2)\n",
            "Requirement already satisfied: idna<4,>=2.5 in /usr/local/lib/python3.10/dist-packages (from requests<2.32,>=2.31.0->pyenerginet) (3.6)\n",
            "Requirement already satisfied: urllib3<3,>=1.21.1 in /usr/local/lib/python3.10/dist-packages (from requests<2.32,>=2.31.0->pyenerginet) (2.0.7)\n",
            "Requirement already satisfied: certifi>=2017.4.17 in /usr/local/lib/python3.10/dist-packages (from requests<2.32,>=2.31.0->pyenerginet) (2024.2.2)\n",
            "Requirement already satisfied: six>=1.5 in /usr/local/lib/python3.10/dist-packages (from python-dateutil>=2.8.2->pandas<2.3,>=2.2.1->pyenerginet) (1.16.0)\n",
            "Installing collected packages: tzdata, numpy, pandas, pyenerginet\n",
            "  Attempting uninstall: numpy\n",
            "    Found existing installation: numpy 1.25.2\n",
            "    Uninstalling numpy-1.25.2:\n",
            "      Successfully uninstalled numpy-1.25.2\n",
            "  Attempting uninstall: pandas\n",
            "    Found existing installation: pandas 1.5.3\n",
            "    Uninstalling pandas-1.5.3:\n",
            "      Successfully uninstalled pandas-1.5.3\n",
            "\u001b[31mERROR: pip's dependency resolver does not currently take into account all the packages that are installed. This behaviour is the source of the following dependency conflicts.\n",
            "bigframes 0.25.0 requires pandas<2.1.4,>=1.5.0, but you have pandas 2.2.1 which is incompatible.\n",
            "google-colab 1.0.0 requires pandas==1.5.3, but you have pandas 2.2.1 which is incompatible.\u001b[0m\u001b[31m\n",
            "\u001b[0mSuccessfully installed numpy-1.26.4 pandas-2.2.1 pyenerginet-0.2 tzdata-2024.1\n"
          ]
        }
      ],
      "source": [
        "pip install pyenerginet"
      ]
    },
    {
      "cell_type": "markdown",
      "source": [
        "Let's import some pacakges just to test the functionality and visualize some charts."
      ],
      "metadata": {
        "id": "CJqmAFyR8aJr"
      }
    },
    {
      "cell_type": "code",
      "source": [
        "import pandas as pd\n",
        "from matplotlib import pyplot as plt\n",
        "from pyenerginet import EnerginetData"
      ],
      "metadata": {
        "id": "LKN2J_0o7-zd"
      },
      "execution_count": 7,
      "outputs": []
    },
    {
      "cell_type": "markdown",
      "source": [
        "Let's check out wind forecast evolution for the last couple days and how it compares with meter readings."
      ],
      "metadata": {
        "id": "pfMOLl-T8ob_"
      }
    },
    {
      "cell_type": "code",
      "source": [
        "end = pd.Timestamp(\"now\").tz_localize(\"UTC\")\n",
        "start = end.normalize() - pd.Timedelta(\"1d\")"
      ],
      "metadata": {
        "id": "rP2_XKkZ8l0X"
      },
      "execution_count": 12,
      "outputs": []
    },
    {
      "cell_type": "code",
      "source": [
        "# initialize the class\n",
        "endk = EnerginetData()"
      ],
      "metadata": {
        "id": "bLnaur-w9cc2"
      },
      "execution_count": 13,
      "outputs": []
    },
    {
      "cell_type": "code",
      "source": [
        "ofw_fc = endk.get_res_forecast(start, end, price_area=\"DK1\", tech=\"Offshore Wind\")"
      ],
      "metadata": {
        "id": "C1-J3g7j9lIF"
      },
      "execution_count": 14,
      "outputs": []
    },
    {
      "cell_type": "code",
      "source": [
        "\n",
        "ofw_fc.head()"
      ],
      "metadata": {
        "id": "_SLB4ucNBPb_",
        "outputId": "edbc9983-bcaa-4fe8-d537-1ebaec7af9fa",
        "colab": {
          "base_uri": "https://localhost:8080/",
          "height": 269
        }
      },
      "execution_count": 17,
      "outputs": [
        {
          "output_type": "execute_result",
          "data": {
            "text/plain": [
              "                                                    ForecastDayAhead  \\\n",
              "ForecastType                                           Offshore Wind   \n",
              "Hour                      Timestamp                                    \n",
              "2024-03-19 00:00:00+00:00 2024-03-19 00:06:19+00:00       862.208313   \n",
              "2024-03-19 01:00:00+00:00 2024-03-19 01:01:20+00:00       864.208313   \n",
              "2024-03-19 02:00:00+00:00 2024-03-19 02:06:19+00:00       868.541687   \n",
              "2024-03-19 03:00:00+00:00 2024-03-19 03:06:20+00:00       866.125000   \n",
              "2024-03-19 04:00:00+00:00 2024-03-19 04:01:21+00:00       868.208313   \n",
              "\n",
              "                                                    ForecastIntraday  \\\n",
              "ForecastType                                           Offshore Wind   \n",
              "Hour                      Timestamp                                    \n",
              "2024-03-19 00:00:00+00:00 2024-03-19 00:06:19+00:00       992.625000   \n",
              "2024-03-19 01:00:00+00:00 2024-03-19 01:01:20+00:00       935.708313   \n",
              "2024-03-19 02:00:00+00:00 2024-03-19 02:06:19+00:00       907.916687   \n",
              "2024-03-19 03:00:00+00:00 2024-03-19 03:06:20+00:00       947.583313   \n",
              "2024-03-19 04:00:00+00:00 2024-03-19 04:01:21+00:00       969.458313   \n",
              "\n",
              "                                                    Forecast5Hour  \\\n",
              "ForecastType                                        Offshore Wind   \n",
              "Hour                      Timestamp                                 \n",
              "2024-03-19 00:00:00+00:00 2024-03-19 00:06:19+00:00    864.833313   \n",
              "2024-03-19 01:00:00+00:00 2024-03-19 01:01:20+00:00    898.875000   \n",
              "2024-03-19 02:00:00+00:00 2024-03-19 02:06:19+00:00    911.166687   \n",
              "2024-03-19 03:00:00+00:00 2024-03-19 03:06:20+00:00    914.000000   \n",
              "2024-03-19 04:00:00+00:00 2024-03-19 04:01:21+00:00    908.458313   \n",
              "\n",
              "                                                    Forecast1Hour  \\\n",
              "ForecastType                                        Offshore Wind   \n",
              "Hour                      Timestamp                                 \n",
              "2024-03-19 00:00:00+00:00 2024-03-19 00:06:19+00:00    983.083313   \n",
              "2024-03-19 01:00:00+00:00 2024-03-19 01:01:20+00:00    964.583313   \n",
              "2024-03-19 02:00:00+00:00 2024-03-19 02:06:19+00:00    930.000000   \n",
              "2024-03-19 03:00:00+00:00 2024-03-19 03:06:20+00:00    897.166687   \n",
              "2024-03-19 04:00:00+00:00 2024-03-19 04:01:21+00:00    931.333313   \n",
              "\n",
              "                                                    ForecastCurrent  \n",
              "ForecastType                                          Offshore Wind  \n",
              "Hour                      Timestamp                                  \n",
              "2024-03-19 00:00:00+00:00 2024-03-19 00:06:19+00:00      992.625000  \n",
              "2024-03-19 01:00:00+00:00 2024-03-19 01:01:20+00:00      935.708313  \n",
              "2024-03-19 02:00:00+00:00 2024-03-19 02:06:19+00:00      907.916687  \n",
              "2024-03-19 03:00:00+00:00 2024-03-19 03:06:20+00:00      947.583313  \n",
              "2024-03-19 04:00:00+00:00 2024-03-19 04:01:21+00:00      969.458313  "
            ],
            "text/html": [
              "\n",
              "  <div id=\"df-ce53e5be-f441-4a6d-a600-a4ce7d17e9df\" class=\"colab-df-container\">\n",
              "    <div>\n",
              "<style scoped>\n",
              "    .dataframe tbody tr th:only-of-type {\n",
              "        vertical-align: middle;\n",
              "    }\n",
              "\n",
              "    .dataframe tbody tr th {\n",
              "        vertical-align: top;\n",
              "    }\n",
              "\n",
              "    .dataframe thead tr th {\n",
              "        text-align: left;\n",
              "    }\n",
              "\n",
              "    .dataframe thead tr:last-of-type th {\n",
              "        text-align: right;\n",
              "    }\n",
              "</style>\n",
              "<table border=\"1\" class=\"dataframe\">\n",
              "  <thead>\n",
              "    <tr>\n",
              "      <th></th>\n",
              "      <th></th>\n",
              "      <th>ForecastDayAhead</th>\n",
              "      <th>ForecastIntraday</th>\n",
              "      <th>Forecast5Hour</th>\n",
              "      <th>Forecast1Hour</th>\n",
              "      <th>ForecastCurrent</th>\n",
              "    </tr>\n",
              "    <tr>\n",
              "      <th></th>\n",
              "      <th>ForecastType</th>\n",
              "      <th>Offshore Wind</th>\n",
              "      <th>Offshore Wind</th>\n",
              "      <th>Offshore Wind</th>\n",
              "      <th>Offshore Wind</th>\n",
              "      <th>Offshore Wind</th>\n",
              "    </tr>\n",
              "    <tr>\n",
              "      <th>Hour</th>\n",
              "      <th>Timestamp</th>\n",
              "      <th></th>\n",
              "      <th></th>\n",
              "      <th></th>\n",
              "      <th></th>\n",
              "      <th></th>\n",
              "    </tr>\n",
              "  </thead>\n",
              "  <tbody>\n",
              "    <tr>\n",
              "      <th>2024-03-19 00:00:00+00:00</th>\n",
              "      <th>2024-03-19 00:06:19+00:00</th>\n",
              "      <td>862.208313</td>\n",
              "      <td>992.625000</td>\n",
              "      <td>864.833313</td>\n",
              "      <td>983.083313</td>\n",
              "      <td>992.625000</td>\n",
              "    </tr>\n",
              "    <tr>\n",
              "      <th>2024-03-19 01:00:00+00:00</th>\n",
              "      <th>2024-03-19 01:01:20+00:00</th>\n",
              "      <td>864.208313</td>\n",
              "      <td>935.708313</td>\n",
              "      <td>898.875000</td>\n",
              "      <td>964.583313</td>\n",
              "      <td>935.708313</td>\n",
              "    </tr>\n",
              "    <tr>\n",
              "      <th>2024-03-19 02:00:00+00:00</th>\n",
              "      <th>2024-03-19 02:06:19+00:00</th>\n",
              "      <td>868.541687</td>\n",
              "      <td>907.916687</td>\n",
              "      <td>911.166687</td>\n",
              "      <td>930.000000</td>\n",
              "      <td>907.916687</td>\n",
              "    </tr>\n",
              "    <tr>\n",
              "      <th>2024-03-19 03:00:00+00:00</th>\n",
              "      <th>2024-03-19 03:06:20+00:00</th>\n",
              "      <td>866.125000</td>\n",
              "      <td>947.583313</td>\n",
              "      <td>914.000000</td>\n",
              "      <td>897.166687</td>\n",
              "      <td>947.583313</td>\n",
              "    </tr>\n",
              "    <tr>\n",
              "      <th>2024-03-19 04:00:00+00:00</th>\n",
              "      <th>2024-03-19 04:01:21+00:00</th>\n",
              "      <td>868.208313</td>\n",
              "      <td>969.458313</td>\n",
              "      <td>908.458313</td>\n",
              "      <td>931.333313</td>\n",
              "      <td>969.458313</td>\n",
              "    </tr>\n",
              "  </tbody>\n",
              "</table>\n",
              "</div>\n",
              "    <div class=\"colab-df-buttons\">\n",
              "\n",
              "  <div class=\"colab-df-container\">\n",
              "    <button class=\"colab-df-convert\" onclick=\"convertToInteractive('df-ce53e5be-f441-4a6d-a600-a4ce7d17e9df')\"\n",
              "            title=\"Convert this dataframe to an interactive table.\"\n",
              "            style=\"display:none;\">\n",
              "\n",
              "  <svg xmlns=\"http://www.w3.org/2000/svg\" height=\"24px\" viewBox=\"0 -960 960 960\">\n",
              "    <path d=\"M120-120v-720h720v720H120Zm60-500h600v-160H180v160Zm220 220h160v-160H400v160Zm0 220h160v-160H400v160ZM180-400h160v-160H180v160Zm440 0h160v-160H620v160ZM180-180h160v-160H180v160Zm440 0h160v-160H620v160Z\"/>\n",
              "  </svg>\n",
              "    </button>\n",
              "\n",
              "  <style>\n",
              "    .colab-df-container {\n",
              "      display:flex;\n",
              "      gap: 12px;\n",
              "    }\n",
              "\n",
              "    .colab-df-convert {\n",
              "      background-color: #E8F0FE;\n",
              "      border: none;\n",
              "      border-radius: 50%;\n",
              "      cursor: pointer;\n",
              "      display: none;\n",
              "      fill: #1967D2;\n",
              "      height: 32px;\n",
              "      padding: 0 0 0 0;\n",
              "      width: 32px;\n",
              "    }\n",
              "\n",
              "    .colab-df-convert:hover {\n",
              "      background-color: #E2EBFA;\n",
              "      box-shadow: 0px 1px 2px rgba(60, 64, 67, 0.3), 0px 1px 3px 1px rgba(60, 64, 67, 0.15);\n",
              "      fill: #174EA6;\n",
              "    }\n",
              "\n",
              "    .colab-df-buttons div {\n",
              "      margin-bottom: 4px;\n",
              "    }\n",
              "\n",
              "    [theme=dark] .colab-df-convert {\n",
              "      background-color: #3B4455;\n",
              "      fill: #D2E3FC;\n",
              "    }\n",
              "\n",
              "    [theme=dark] .colab-df-convert:hover {\n",
              "      background-color: #434B5C;\n",
              "      box-shadow: 0px 1px 3px 1px rgba(0, 0, 0, 0.15);\n",
              "      filter: drop-shadow(0px 1px 2px rgba(0, 0, 0, 0.3));\n",
              "      fill: #FFFFFF;\n",
              "    }\n",
              "  </style>\n",
              "\n",
              "    <script>\n",
              "      const buttonEl =\n",
              "        document.querySelector('#df-ce53e5be-f441-4a6d-a600-a4ce7d17e9df button.colab-df-convert');\n",
              "      buttonEl.style.display =\n",
              "        google.colab.kernel.accessAllowed ? 'block' : 'none';\n",
              "\n",
              "      async function convertToInteractive(key) {\n",
              "        const element = document.querySelector('#df-ce53e5be-f441-4a6d-a600-a4ce7d17e9df');\n",
              "        const dataTable =\n",
              "          await google.colab.kernel.invokeFunction('convertToInteractive',\n",
              "                                                    [key], {});\n",
              "        if (!dataTable) return;\n",
              "\n",
              "        const docLinkHtml = 'Like what you see? Visit the ' +\n",
              "          '<a target=\"_blank\" href=https://colab.research.google.com/notebooks/data_table.ipynb>data table notebook</a>'\n",
              "          + ' to learn more about interactive tables.';\n",
              "        element.innerHTML = '';\n",
              "        dataTable['output_type'] = 'display_data';\n",
              "        await google.colab.output.renderOutput(dataTable, element);\n",
              "        const docLink = document.createElement('div');\n",
              "        docLink.innerHTML = docLinkHtml;\n",
              "        element.appendChild(docLink);\n",
              "      }\n",
              "    </script>\n",
              "  </div>\n",
              "\n",
              "\n",
              "<div id=\"df-02b0812a-808f-4b3f-aa0a-74e3138b91a9\">\n",
              "  <button class=\"colab-df-quickchart\" onclick=\"quickchart('df-02b0812a-808f-4b3f-aa0a-74e3138b91a9')\"\n",
              "            title=\"Suggest charts\"\n",
              "            style=\"display:none;\">\n",
              "\n",
              "<svg xmlns=\"http://www.w3.org/2000/svg\" height=\"24px\"viewBox=\"0 0 24 24\"\n",
              "     width=\"24px\">\n",
              "    <g>\n",
              "        <path d=\"M19 3H5c-1.1 0-2 .9-2 2v14c0 1.1.9 2 2 2h14c1.1 0 2-.9 2-2V5c0-1.1-.9-2-2-2zM9 17H7v-7h2v7zm4 0h-2V7h2v10zm4 0h-2v-4h2v4z\"/>\n",
              "    </g>\n",
              "</svg>\n",
              "  </button>\n",
              "\n",
              "<style>\n",
              "  .colab-df-quickchart {\n",
              "      --bg-color: #E8F0FE;\n",
              "      --fill-color: #1967D2;\n",
              "      --hover-bg-color: #E2EBFA;\n",
              "      --hover-fill-color: #174EA6;\n",
              "      --disabled-fill-color: #AAA;\n",
              "      --disabled-bg-color: #DDD;\n",
              "  }\n",
              "\n",
              "  [theme=dark] .colab-df-quickchart {\n",
              "      --bg-color: #3B4455;\n",
              "      --fill-color: #D2E3FC;\n",
              "      --hover-bg-color: #434B5C;\n",
              "      --hover-fill-color: #FFFFFF;\n",
              "      --disabled-bg-color: #3B4455;\n",
              "      --disabled-fill-color: #666;\n",
              "  }\n",
              "\n",
              "  .colab-df-quickchart {\n",
              "    background-color: var(--bg-color);\n",
              "    border: none;\n",
              "    border-radius: 50%;\n",
              "    cursor: pointer;\n",
              "    display: none;\n",
              "    fill: var(--fill-color);\n",
              "    height: 32px;\n",
              "    padding: 0;\n",
              "    width: 32px;\n",
              "  }\n",
              "\n",
              "  .colab-df-quickchart:hover {\n",
              "    background-color: var(--hover-bg-color);\n",
              "    box-shadow: 0 1px 2px rgba(60, 64, 67, 0.3), 0 1px 3px 1px rgba(60, 64, 67, 0.15);\n",
              "    fill: var(--button-hover-fill-color);\n",
              "  }\n",
              "\n",
              "  .colab-df-quickchart-complete:disabled,\n",
              "  .colab-df-quickchart-complete:disabled:hover {\n",
              "    background-color: var(--disabled-bg-color);\n",
              "    fill: var(--disabled-fill-color);\n",
              "    box-shadow: none;\n",
              "  }\n",
              "\n",
              "  .colab-df-spinner {\n",
              "    border: 2px solid var(--fill-color);\n",
              "    border-color: transparent;\n",
              "    border-bottom-color: var(--fill-color);\n",
              "    animation:\n",
              "      spin 1s steps(1) infinite;\n",
              "  }\n",
              "\n",
              "  @keyframes spin {\n",
              "    0% {\n",
              "      border-color: transparent;\n",
              "      border-bottom-color: var(--fill-color);\n",
              "      border-left-color: var(--fill-color);\n",
              "    }\n",
              "    20% {\n",
              "      border-color: transparent;\n",
              "      border-left-color: var(--fill-color);\n",
              "      border-top-color: var(--fill-color);\n",
              "    }\n",
              "    30% {\n",
              "      border-color: transparent;\n",
              "      border-left-color: var(--fill-color);\n",
              "      border-top-color: var(--fill-color);\n",
              "      border-right-color: var(--fill-color);\n",
              "    }\n",
              "    40% {\n",
              "      border-color: transparent;\n",
              "      border-right-color: var(--fill-color);\n",
              "      border-top-color: var(--fill-color);\n",
              "    }\n",
              "    60% {\n",
              "      border-color: transparent;\n",
              "      border-right-color: var(--fill-color);\n",
              "    }\n",
              "    80% {\n",
              "      border-color: transparent;\n",
              "      border-right-color: var(--fill-color);\n",
              "      border-bottom-color: var(--fill-color);\n",
              "    }\n",
              "    90% {\n",
              "      border-color: transparent;\n",
              "      border-bottom-color: var(--fill-color);\n",
              "    }\n",
              "  }\n",
              "</style>\n",
              "\n",
              "  <script>\n",
              "    async function quickchart(key) {\n",
              "      const quickchartButtonEl =\n",
              "        document.querySelector('#' + key + ' button');\n",
              "      quickchartButtonEl.disabled = true;  // To prevent multiple clicks.\n",
              "      quickchartButtonEl.classList.add('colab-df-spinner');\n",
              "      try {\n",
              "        const charts = await google.colab.kernel.invokeFunction(\n",
              "            'suggestCharts', [key], {});\n",
              "      } catch (error) {\n",
              "        console.error('Error during call to suggestCharts:', error);\n",
              "      }\n",
              "      quickchartButtonEl.classList.remove('colab-df-spinner');\n",
              "      quickchartButtonEl.classList.add('colab-df-quickchart-complete');\n",
              "    }\n",
              "    (() => {\n",
              "      let quickchartButtonEl =\n",
              "        document.querySelector('#df-02b0812a-808f-4b3f-aa0a-74e3138b91a9 button');\n",
              "      quickchartButtonEl.style.display =\n",
              "        google.colab.kernel.accessAllowed ? 'block' : 'none';\n",
              "    })();\n",
              "  </script>\n",
              "</div>\n",
              "    </div>\n",
              "  </div>\n"
            ],
            "application/vnd.google.colaboratory.intrinsic+json": {
              "type": "dataframe",
              "variable_name": "ofw_fc",
              "summary": "{\n  \"name\": \"ofw_fc\",\n  \"rows\": 38,\n  \"fields\": [\n    {\n      \"column\": [\n        \"ForecastDayAhead\",\n        \"Offshore Wind\"\n      ],\n      \"properties\": {\n        \"dtype\": \"number\",\n        \"std\": 355.8936270303589,\n        \"min\": 39.666668,\n        \"max\": 923.625,\n        \"num_unique_values\": 38,\n        \"samples\": [\n          53.875,\n          41.416668,\n          868.208313\n        ],\n        \"semantic_type\": \"\",\n        \"description\": \"\"\n      }\n    },\n    {\n      \"column\": [\n        \"ForecastIntraday\",\n        \"Offshore Wind\"\n      ],\n      \"properties\": {\n        \"dtype\": \"number\",\n        \"std\": 384.75420445434446,\n        \"min\": 33.0,\n        \"max\": 992.625,\n        \"num_unique_values\": 38,\n        \"samples\": [\n          43.833332,\n          41.291668,\n          969.458313\n        ],\n        \"semantic_type\": \"\",\n        \"description\": \"\"\n      }\n    },\n    {\n      \"column\": [\n        \"Forecast5Hour\",\n        \"Offshore Wind\"\n      ],\n      \"properties\": {\n        \"dtype\": \"number\",\n        \"std\": 374.53115221460854,\n        \"min\": 30.291666,\n        \"max\": 931.541687,\n        \"num_unique_values\": 38,\n        \"samples\": [\n          36.0,\n          41.291668,\n          908.458313\n        ],\n        \"semantic_type\": \"\",\n        \"description\": \"\"\n      }\n    },\n    {\n      \"column\": [\n        \"Forecast1Hour\",\n        \"Offshore Wind\"\n      ],\n      \"properties\": {\n        \"dtype\": \"number\",\n        \"std\": 397.58724368517926,\n        \"min\": 9.541667,\n        \"max\": 994.458313,\n        \"num_unique_values\": 38,\n        \"samples\": [\n          21.458334,\n          14.166667,\n          931.333313\n        ],\n        \"semantic_type\": \"\",\n        \"description\": \"\"\n      }\n    },\n    {\n      \"column\": [\n        \"ForecastCurrent\",\n        \"Offshore Wind\"\n      ],\n      \"properties\": {\n        \"dtype\": \"number\",\n        \"std\": 405.225615738487,\n        \"min\": 2.666667,\n        \"max\": 1016.416687,\n        \"num_unique_values\": 38,\n        \"samples\": [\n          15.166667,\n          15.666667,\n          969.458313\n        ],\n        \"semantic_type\": \"\",\n        \"description\": \"\"\n      }\n    }\n  ]\n}"
            }
          },
          "metadata": {},
          "execution_count": 17
        }
      ]
    },
    {
      "cell_type": "code",
      "source": [
        "# there is only one revision of the forecast per delivery period, so get rid of second dimension of the index\n",
        "ofw_fc = ofw_fc.droplevel(axis=0, level=1)"
      ],
      "metadata": {
        "id": "vLezlyhLBH6f"
      },
      "execution_count": 18,
      "outputs": []
    },
    {
      "cell_type": "code",
      "source": [
        "\n",
        "# get real time production measurements\n",
        "realtime_prod = endk.get_realtime_prod_ex(start, end, price_area=\"DK1\", columns=\"OffshoreWindPower\")"
      ],
      "metadata": {
        "id": "_WMPziw-Bn8Z"
      },
      "execution_count": 22,
      "outputs": []
    },
    {
      "cell_type": "code",
      "source": [
        "ofw_fc.plot()\n",
        "realtime_prod.plot(color=\"black\")"
      ],
      "metadata": {
        "id": "oKiWzOjk-U61",
        "outputId": "f412fb41-069e-4ac8-f0fd-ce154b28d99d",
        "colab": {
          "base_uri": "https://localhost:8080/",
          "height": 502
        }
      },
      "execution_count": 23,
      "outputs": [
        {
          "output_type": "execute_result",
          "data": {
            "text/plain": [
              "<Axes: xlabel='Minutes5'>"
            ]
          },
          "metadata": {},
          "execution_count": 23
        },
        {
          "output_type": "display_data",
          "data": {
            "text/plain": [
              "<Figure size 640x480 with 1 Axes>"
            ],
            "image/png": "[encoded data removed]"
          },
          "metadata": {}
        }
      ]
    },
    {
      "cell_type": "code",
      "source": [],
      "metadata": {
        "id": "LXAaNj2A-Vrt"
      },
      "execution_count": null,
      "outputs": []
    },
    {
      "cell_type": "code",
      "source": [],
      "metadata": {
        "id": "_IFPOdmsBgXB"
      },
      "execution_count": null,
      "outputs": []
    }
  ]
}